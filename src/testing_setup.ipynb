{
 "cells": [
  {
   "cell_type": "code",
   "execution_count": 1,
   "metadata": {},
   "outputs": [],
   "source": [
    "from reddit_api import *"
   ]
  },
  {
   "cell_type": "code",
   "execution_count": 2,
   "metadata": {},
   "outputs": [
    {
     "name": "stdout",
     "output_type": "stream",
     "text": [
      "Okay\n"
     ]
    }
   ],
   "source": [
    "if 'REDDIT_ID' and 'REDDIT_SECRET' not in os.environ:\n",
    "    print('We have an issue')\n",
    "else:\n",
    "    print('Okay')"
   ]
  },
  {
   "cell_type": "code",
   "execution_count": 3,
   "metadata": {},
   "outputs": [],
   "source": [
    "#Setup Praw Logging\n",
    "for logger_name in (\"praw\", \"prawcore\", \"pymongo\", \"apscheduler\"):\n",
    "    setup_logging(logger_name)"
   ]
  },
  {
   "cell_type": "code",
   "execution_count": 2,
   "metadata": {},
   "outputs": [],
   "source": [
    "reddit = setup_reddit_instance(user='abysswatcherbel')\n",
    "client = MongoClient(\"mongodb://localhost:27017/\")"
   ]
  },
  {
   "cell_type": "code",
   "execution_count": 3,
   "metadata": {},
   "outputs": [],
   "source": [
    "posts = fetch_recent_posts(reddit=reddit)"
   ]
  },
  {
   "cell_type": "code",
   "execution_count": 6,
   "metadata": {},
   "outputs": [
    {
     "name": "stdout",
     "output_type": "stream",
     "text": [
      "Error processing post 1ib9623: Updating the path 'reddit_karma' would create a conflict at 'reddit_karma', full error: {'index': 0, 'code': 40, 'errmsg': \"Updating the path 'reddit_karma' would create a conflict at 'reddit_karma'\"}\n"
     ]
    }
   ],
   "source": [
    "scheduler = setup_scheduler()"
   ]
  },
  {
   "cell_type": "code",
   "execution_count": 4,
   "metadata": {},
   "outputs": [
    {
     "data": {
      "text/plain": [
       "{'id': '1ictqek',\n",
       " 'title': 'Yoru wa Neko to Issho Season 3 • Nights with a Cat Season 3 - Episode 69 discussion',\n",
       " 'created_utc': 1738157302,\n",
       " 'closing_at': datetime.datetime(2025, 1, 31, 13, 28, 22, tzinfo=datetime.timezone.utc),\n",
       " 'week_id': 5,\n",
       " 'season': 1}"
      ]
     },
     "execution_count": 4,
     "metadata": {},
     "output_type": "execute_result"
    }
   ],
   "source": [
    "posts[0]"
   ]
  },
  {
   "cell_type": "code",
   "execution_count": 8,
   "metadata": {},
   "outputs": [],
   "source": [
    "schedule_post_processing(posts, reddit, scheduler)"
   ]
  },
  {
   "cell_type": "code",
   "execution_count": 8,
   "metadata": {},
   "outputs": [],
   "source": [
    "import logging\n",
    "\n",
    "handlers = logging.getHandlerNames()"
   ]
  },
  {
   "cell_type": "code",
   "execution_count": 9,
   "metadata": {},
   "outputs": [],
   "source": [
    "post_details = close_post('1ib9623', reddit, 5)"
   ]
  },
  {
   "cell_type": "code",
   "execution_count": 5,
   "metadata": {},
   "outputs": [
    {
     "name": "stdout",
     "output_type": "stream",
     "text": [
      "Added entry to existing document\n",
      "Successfully processed and inserted post: 1ictqek\n"
     ]
    }
   ],
   "source": [
    "process_post(posts[0], reddit)"
   ]
  }
 ],
 "metadata": {
  "kernelspec": {
   "display_name": "karma_rankings",
   "language": "python",
   "name": "python3"
  },
  "language_info": {
   "codemirror_mode": {
    "name": "ipython",
    "version": 3
   },
   "file_extension": ".py",
   "mimetype": "text/x-python",
   "name": "python",
   "nbconvert_exporter": "python",
   "pygments_lexer": "ipython3",
   "version": "3.13.1"
  }
 },
 "nbformat": 4,
 "nbformat_minor": 2
}
